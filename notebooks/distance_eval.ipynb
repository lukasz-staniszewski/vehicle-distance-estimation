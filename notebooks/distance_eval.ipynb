{
 "cells": [
  {
   "cell_type": "code",
   "execution_count": null,
   "metadata": {},
   "outputs": [],
   "source": [
    "import os\n",
    "os.chdir(\"/net/tscratch/people/plglukaszst/projects/vehicle-distance-estimation\")"
   ]
  },
  {
   "cell_type": "code",
   "execution_count": null,
   "metadata": {},
   "outputs": [],
   "source": [
    "from tqdm import tqdm\n",
    "from distance_estimation.detection.predict import load_yolo_model\n",
    "from distance_estimation.dummy_distance_prediction.ddp_predict import DummyDistancePredictor, predict_dummy_distance_prediction\n",
    "from distance_estimation.distance_prediction.predict import DistancePredictor\n",
    "import pprint\n",
    "import time\n",
    "import os\n",
    "from distance_estimation.distance_prediction.eval import get_maes, get_test_distance_dataset"
   ]
  },
  {
   "cell_type": "code",
   "execution_count": null,
   "metadata": {},
   "outputs": [],
   "source": [
    "test_ds = get_test_distance_dataset()\n",
    "images = test_ds['images']\n",
    "targets = test_ds['targets']\n",
    "focal_lens = test_ds['focal_lens']"
   ]
  },
  {
   "cell_type": "markdown",
   "metadata": {},
   "source": [
    "# Dummy Distance Prediction"
   ]
  },
  {
   "cell_type": "code",
   "execution_count": null,
   "metadata": {},
   "outputs": [],
   "source": [
    "preds = []\n",
    "\n",
    "DET_MODEL_PATH = \"experiments/detection/yolov8-kitti-detection/train/weights/best.pt\"\n",
    "DDP_MODEL_PATH = \"distance_estimation/dummy_distance_prediction/model.json\"\n",
    "\n",
    "yolo_model = load_yolo_model(model_path=DET_MODEL_PATH)\n",
    "ddp_model = DummyDistancePredictor.load(model_path=DDP_MODEL_PATH)\n",
    "\n",
    "start_time = time.time()\n",
    "for image, focal_length in tqdm(zip(images, focal_lens), total=len(images)):\n",
    "    detections = predict_dummy_distance_prediction(\n",
    "        ddp_model=ddp_model, yolo_model=yolo_model, model_inp=image, focal_length=focal_length\n",
    "    )\n",
    "    preds.append(detections)\n",
    "end_time = time.time()\n",
    "\n",
    "total_time = end_time - start_time\n",
    "mean_inference_speed = len(images) / total_time\n",
    "print(f\"Mean Inference Speed: {mean_inference_speed:.2f} images per second\")"
   ]
  },
  {
   "cell_type": "code",
   "execution_count": null,
   "metadata": {},
   "outputs": [],
   "source": [
    "maes = get_maes(imgs_preds=preds, imgs_targets=targets)\n",
    "pprint.pprint(maes)"
   ]
  },
  {
   "cell_type": "markdown",
   "metadata": {},
   "source": [
    "# Detection + Depth Estimation"
   ]
  },
  {
   "cell_type": "markdown",
   "metadata": {},
   "source": [
    "+ Center min"
   ]
  },
  {
   "cell_type": "code",
   "execution_count": null,
   "metadata": {},
   "outputs": [],
   "source": [
    "preds = []\n",
    "\n",
    "DEPTH_MODEL_PATH = \"local::./checkpoints/zoedepth-10epochs_best.pt\"\n",
    "DET_MODEL_PATH = \"experiments/detection/yolov8-kitti-detection/train/weights/best.pt\"\n",
    "\n",
    "strategy = \"center_min\"\n",
    "\n",
    "predictor = DistancePredictor.load(\n",
    "    vit_type=\"small\",\n",
    "    depth_model_path=DEPTH_MODEL_PATH,\n",
    "    detection_model_path=DET_MODEL_PATH,\n",
    "    strategy=strategy,\n",
    "    run_multithreaded=False\n",
    ")\n",
    "\n",
    "start_time = time.time()\n",
    "for image in tqdm(images, total=len(images)):\n",
    "    detections = predictor.predict(image=image)\n",
    "    preds.append(detections)\n",
    "end_time = time.time()\n",
    "\n",
    "total_time = end_time - start_time\n",
    "mean_inference_speed = len(images) / total_time\n",
    "print(f\"Mean Inference Speed: {mean_inference_speed:.2f} images per second\")"
   ]
  },
  {
   "cell_type": "code",
   "execution_count": null,
   "metadata": {},
   "outputs": [],
   "source": [
    "maes = get_maes(imgs_preds=preds, imgs_targets=targets)\n",
    "pprint.pprint(maes)"
   ]
  },
  {
   "cell_type": "markdown",
   "metadata": {},
   "source": [
    "+ Center mean"
   ]
  },
  {
   "cell_type": "code",
   "execution_count": null,
   "metadata": {},
   "outputs": [],
   "source": [
    "preds = []\n",
    "strategy = \"center_mean\"\n",
    "\n",
    "predictor = DistancePredictor.load(\n",
    "    vit_type=\"small\",\n",
    "    depth_model_path=DEPTH_MODEL_PATH,\n",
    "    detection_model_path=DET_MODEL_PATH,\n",
    "    strategy=strategy,\n",
    "    run_multithreaded=False\n",
    ")\n",
    "\n",
    "start_time = time.time()\n",
    "for image, focal_length in tqdm(zip(images, focal_lens), total=len(images)):\n",
    "    detections = predictor.predict(image=image)\n",
    "    preds.append(detections)\n",
    "end_time = time.time()\n",
    "\n",
    "total_time = end_time - start_time\n",
    "mean_inference_speed = len(images) / total_time\n",
    "print(f\"Mean Inference Speed: {mean_inference_speed:.2f} images per second\")"
   ]
  },
  {
   "cell_type": "code",
   "execution_count": null,
   "metadata": {},
   "outputs": [],
   "source": [
    "maes = get_maes(imgs_preds=preds, imgs_targets=targets)\n",
    "pprint.pprint(maes)"
   ]
  },
  {
   "cell_type": "markdown",
   "metadata": {},
   "source": [
    "+ Center median"
   ]
  },
  {
   "cell_type": "code",
   "execution_count": null,
   "metadata": {},
   "outputs": [],
   "source": [
    "preds = []\n",
    "\n",
    "strategy = \"center_median\"\n",
    "\n",
    "predictor = DistancePredictor.load(\n",
    "    vit_type=\"small\",\n",
    "    depth_model_path=DEPTH_MODEL_PATH,\n",
    "    detection_model_path=DET_MODEL_PATH,\n",
    "    strategy=strategy,\n",
    "    run_multithreaded=False\n",
    ")\n",
    "\n",
    "start_time = time.time()\n",
    "for image, focal_length in tqdm(zip(images, focal_lens), total=len(images)):\n",
    "    detections = predictor.predict(image=image)\n",
    "    preds.append(detections)\n",
    "end_time = time.time()\n",
    "\n",
    "total_time = end_time - start_time\n",
    "mean_inference_speed = len(images) / total_time\n",
    "print(f\"Mean Inference Speed: {mean_inference_speed:.2f} images per second\")"
   ]
  },
  {
   "cell_type": "code",
   "execution_count": null,
   "metadata": {},
   "outputs": [],
   "source": [
    "maes = get_maes(imgs_preds=preds, imgs_targets=targets)\n",
    "pprint.pprint(maes)"
   ]
  },
  {
   "cell_type": "markdown",
   "metadata": {},
   "source": [
    "+ Center percentile"
   ]
  },
  {
   "cell_type": "code",
   "execution_count": null,
   "metadata": {},
   "outputs": [],
   "source": [
    "preds = []\n",
    "\n",
    "strategy = \"center_percentile\"\n",
    "\n",
    "predictor = DistancePredictor.load(\n",
    "    vit_type=\"small\",\n",
    "    depth_model_path=DEPTH_MODEL_PATH,\n",
    "    detection_model_path=DET_MODEL_PATH,\n",
    "    strategy=strategy,\n",
    "    run_multithreaded=False\n",
    ")\n",
    "\n",
    "start_time = time.time()\n",
    "for image, focal_length in tqdm(zip(images, focal_lens), total=len(images)):\n",
    "    detections = predictor.predict(image=image)\n",
    "    preds.append(detections)\n",
    "end_time = time.time()\n",
    "\n",
    "total_time = end_time - start_time\n",
    "mean_inference_speed = len(images) / total_time\n",
    "print(f\"Mean Inference Speed: {mean_inference_speed:.2f} images per second\")"
   ]
  },
  {
   "cell_type": "code",
   "execution_count": null,
   "metadata": {},
   "outputs": [],
   "source": [
    "maes = get_maes(imgs_preds=preds, imgs_targets=targets)\n",
    "pprint.pprint(maes)"
   ]
  },
  {
   "cell_type": "markdown",
   "metadata": {},
   "source": [
    "+ BBOX min"
   ]
  },
  {
   "cell_type": "code",
   "execution_count": null,
   "metadata": {},
   "outputs": [],
   "source": [
    "preds = []\n",
    "\n",
    "strategy = \"bbox_min\"\n",
    "\n",
    "predictor = DistancePredictor.load(\n",
    "    vit_type=\"small\",\n",
    "    depth_model_path=DEPTH_MODEL_PATH,\n",
    "    detection_model_path=DET_MODEL_PATH,\n",
    "    strategy=strategy,\n",
    "    run_multithreaded=False\n",
    ")\n",
    "\n",
    "start_time = time.time()\n",
    "for image, focal_length in tqdm(zip(images, focal_lens), total=len(images)):\n",
    "    detections = predictor.predict(image=image)\n",
    "    preds.append(detections)\n",
    "end_time = time.time()\n",
    "\n",
    "total_time = end_time - start_time\n",
    "mean_inference_speed = len(images) / total_time\n",
    "print(f\"Mean Inference Speed: {mean_inference_speed:.2f} images per second\")"
   ]
  },
  {
   "cell_type": "code",
   "execution_count": null,
   "metadata": {},
   "outputs": [],
   "source": [
    "maes = get_maes(imgs_preds=preds, imgs_targets=targets)\n",
    "pprint.pprint(maes)"
   ]
  },
  {
   "cell_type": "markdown",
   "metadata": {},
   "source": [
    "+ BBOX median"
   ]
  },
  {
   "cell_type": "code",
   "execution_count": null,
   "metadata": {},
   "outputs": [],
   "source": [
    "preds = []\n",
    "\n",
    "strategy = \"bbox_median\"\n",
    "\n",
    "predictor = DistancePredictor.load(\n",
    "    vit_type=\"small\",\n",
    "    depth_model_path=DEPTH_MODEL_PATH,\n",
    "    detection_model_path=DET_MODEL_PATH,\n",
    "    strategy=strategy,\n",
    "    run_multithreaded=False\n",
    ")\n",
    "\n",
    "start_time = time.time()\n",
    "for image, focal_length in tqdm(zip(images, focal_lens), total=len(images)):\n",
    "    detections = predictor.predict(image=image)\n",
    "    preds.append(detections)\n",
    "end_time = time.time()\n",
    "\n",
    "total_time = end_time - start_time\n",
    "mean_inference_speed = len(images) / total_time\n",
    "print(f\"Mean Inference Speed: {mean_inference_speed:.2f} images per second\")"
   ]
  },
  {
   "cell_type": "code",
   "execution_count": null,
   "metadata": {},
   "outputs": [],
   "source": [
    "maes = get_maes(imgs_preds=preds, imgs_targets=targets)\n",
    "pprint.pprint(maes)"
   ]
  },
  {
   "cell_type": "markdown",
   "metadata": {},
   "source": [
    "+ BBOX mean"
   ]
  },
  {
   "cell_type": "code",
   "execution_count": null,
   "metadata": {},
   "outputs": [],
   "source": [
    "preds = []\n",
    "\n",
    "strategy = \"bbox_mean\"\n",
    "\n",
    "predictor = DistancePredictor.load(\n",
    "    vit_type=\"small\",\n",
    "    depth_model_path=DEPTH_MODEL_PATH,\n",
    "    detection_model_path=DET_MODEL_PATH,\n",
    "    strategy=strategy,\n",
    "    run_multithreaded=False\n",
    ")\n",
    "\n",
    "start_time = time.time()\n",
    "for image, focal_length in tqdm(zip(images, focal_lens), total=len(images)):\n",
    "    detections = predictor.predict(image=image)\n",
    "    preds.append(detections)\n",
    "end_time = time.time()\n",
    "\n",
    "total_time = end_time - start_time\n",
    "mean_inference_speed = len(images) / total_time\n",
    "print(f\"Mean Inference Speed: {mean_inference_speed:.2f} images per second\")"
   ]
  },
  {
   "cell_type": "code",
   "execution_count": null,
   "metadata": {},
   "outputs": [],
   "source": [
    "maes = get_maes(imgs_preds=preds, imgs_targets=targets)\n",
    "pprint.pprint(maes)"
   ]
  },
  {
   "cell_type": "markdown",
   "metadata": {},
   "source": [
    "+ BBOX percentile"
   ]
  },
  {
   "cell_type": "code",
   "execution_count": null,
   "metadata": {},
   "outputs": [],
   "source": [
    "preds = []\n",
    "\n",
    "strategy = \"bbox_percentile\"\n",
    "\n",
    "predictor = DistancePredictor.load(\n",
    "    vit_type=\"small\",\n",
    "    depth_model_path=DEPTH_MODEL_PATH,\n",
    "    detection_model_path=DET_MODEL_PATH,\n",
    "    strategy=strategy,\n",
    "    run_multithreaded=False\n",
    ")\n",
    "\n",
    "start_time = time.time()\n",
    "for image, focal_length in tqdm(zip(images, focal_lens), total=len(images)):\n",
    "    detections = predictor.predict(image=image)\n",
    "    preds.append(detections)\n",
    "end_time = time.time()\n",
    "\n",
    "total_time = end_time - start_time\n",
    "mean_inference_speed = len(images) / total_time\n",
    "print(f\"Mean Inference Speed: {mean_inference_speed:.2f} images per second\")"
   ]
  },
  {
   "cell_type": "code",
   "execution_count": null,
   "metadata": {},
   "outputs": [],
   "source": [
    "maes = get_maes(imgs_preds=preds, imgs_targets=targets)\n",
    "pprint.pprint(maes)"
   ]
  },
  {
   "cell_type": "code",
   "execution_count": null,
   "metadata": {},
   "outputs": [],
   "source": []
  }
 ],
 "metadata": {
  "kernelspec": {
   "display_name": "Python 3 (ipykernel)",
   "language": "python",
   "name": "python3"
  },
  "language_info": {
   "codemirror_mode": {
    "name": "ipython",
    "version": 3
   },
   "file_extension": ".py",
   "mimetype": "text/x-python",
   "name": "python",
   "nbconvert_exporter": "python",
   "pygments_lexer": "ipython3",
   "version": "3.11.9"
  }
 },
 "nbformat": 4,
 "nbformat_minor": 2
}
